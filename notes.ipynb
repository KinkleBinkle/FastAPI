{
 "cells": [
  {
   "cell_type": "markdown",
   "id": "1e444a54",
   "metadata": {},
   "source": [
    "## FastAPI Notes"
   ]
  },
  {
   "cell_type": "markdown",
   "id": "c1e84495",
   "metadata": {},
   "source": []
  },
  {
   "cell_type": "markdown",
   "id": "3707bcba",
   "metadata": {},
   "source": [
    "To run your FastAPI Project, run:\n",
    "> python -m uvicorn main:app --reload\n"
   ]
  }
 ],
 "metadata": {
  "language_info": {
   "name": "python"
  }
 },
 "nbformat": 4,
 "nbformat_minor": 5
}
