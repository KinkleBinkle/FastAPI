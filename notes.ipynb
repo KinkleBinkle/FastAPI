{
 "cells": [
  {
   "cell_type": "markdown",
   "id": "1e444a54",
   "metadata": {},
   "source": [
    "## FastAPI Notes"
   ]
  },
  {
   "cell_type": "markdown",
   "id": "3707bcba",
   "metadata": {},
   "source": [
    "To run your FastAPI Project, run:\n",
    "> python -m uvicorn main:app --reload\n"
   ]
  },
  {
   "cell_type": "markdown",
   "id": "b8b2884c",
   "metadata": {},
   "source": [
    "Query strings return the required response according to what the user has queried."
   ]
  },
  {
   "cell_type": "markdown",
   "id": "5edbb6f0",
   "metadata": {},
   "source": [
    "```http\n",
    "GET http://localhost:8000/books?author=Book%20Author\n",
    "Content-Type: application/json\n",
    "```"
   ]
  },
  {
   "cell_type": "markdown",
   "id": "6c20b861",
   "metadata": {},
   "source": [
    "Path parameters give you a filter based on unique ids\n",
    "\n",
    "```http\n",
    "GET http://localhost:8000/books/2\n",
    "Content-Type: application/json\n",
    "```"
   ]
  }
 ],
 "metadata": {
  "language_info": {
   "name": "python"
  }
 },
 "nbformat": 4,
 "nbformat_minor": 5
}
